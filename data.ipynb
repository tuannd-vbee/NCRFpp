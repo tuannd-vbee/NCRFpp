{
 "cells": [
  {
   "cell_type": "code",
   "execution_count": 1,
   "metadata": {},
   "outputs": [],
   "source": [
    "from tqdm import tqdm \n",
    "import os \n",
    "import re"
   ]
  },
  {
   "cell_type": "code",
   "execution_count": 2,
   "metadata": {},
   "outputs": [],
   "source": [
    "def data_stats(filename):\n",
    "    blank_sentences = []\n",
    "    informative_sentences = []\n",
    "    entities = {}\n",
    "    with open(filename, 'r', encoding='utf8') as f:\n",
    "        for s in tqdm(f):\n",
    "            result = re.findall('\\[.*?\\]\\(.*?\\)', s)\n",
    "            if len(result) > 0:\n",
    "                informative_sentences.append(s)\n",
    "            else:\n",
    "                blank_sentences.append(s)\n",
    "\n",
    "            for p in result:\n",
    "                key = (p.split('](')[1][:-1])\n",
    "                value = p.split('](')[0][1:]\n",
    "\n",
    "                if key not in entities:\n",
    "                    entities[key] = []\n",
    "                entities[key].append(value)\n",
    "    return blank_sentences, informative_sentences, entities"
   ]
  },
  {
   "cell_type": "code",
   "execution_count": 7,
   "metadata": {},
   "outputs": [],
   "source": [
    "def print_stats(file_path):\n",
    "    blank_sentences, informative_sentences, entities = data_stats(file_path)\n",
    "    print('Sentences have entities: ', len(informative_sentences))\n",
    "    print('Sentences dont have entities: ', len(blank_sentences))\n",
    "    print()\n",
    "    for key in entities:\n",
    "        print(f\"{len(entities[key])} values for entity {key.upper()}, with {len(set(entities[key]))} unique values\")"
   ]
  },
  {
   "cell_type": "code",
   "execution_count": 11,
   "metadata": {},
   "outputs": [
    {
     "name": "stdout",
     "output_type": "stream",
     "text": [
      "Training data: \n",
      "\n"
     ]
    },
    {
     "name": "stderr",
     "output_type": "stream",
     "text": [
      "20798it [00:00, 153128.43it/s]"
     ]
    },
    {
     "name": "stdout",
     "output_type": "stream",
     "text": [
      "Sentences have entities:  16623\n",
      "Sentences dont have entities:  4175\n",
      "\n",
      "8485 values for entity LOANWORD, with 2701 unique values\n",
      "1511 values for entity READ_AS_SEQUENCE, with 563 unique values\n",
      "9607 values for entity NUMBER, with 876 unique values\n",
      "9191 values for entity DATE, with 2278 unique values\n",
      "1676 values for entity COMPOSITE, with 901 unique values\n",
      "1769 values for entity MEASURE, with 1112 unique values\n",
      "1503 values for entity TIME, with 310 unique values\n",
      "400 values for entity RANGE, with 286 unique values\n",
      "139 values for entity FRACTION, with 99 unique values\n"
     ]
    },
    {
     "name": "stderr",
     "output_type": "stream",
     "text": [
      "\n"
     ]
    }
   ],
   "source": [
    "print('Training data: \\n')\n",
    "print_stats('data/train.yml')"
   ]
  },
  {
   "cell_type": "code",
   "execution_count": 12,
   "metadata": {},
   "outputs": [
    {
     "name": "stdout",
     "output_type": "stream",
     "text": [
      "Dev data: \n",
      "\n"
     ]
    },
    {
     "name": "stderr",
     "output_type": "stream",
     "text": [
      "2599it [00:00, 133716.82it/s]"
     ]
    },
    {
     "name": "stdout",
     "output_type": "stream",
     "text": [
      "Sentences have entities:  2079\n",
      "Sentences dont have entities:  520\n",
      "\n",
      "1164 values for entity NUMBER, with 209 unique values\n",
      "218 values for entity MEASURE, with 195 unique values\n",
      "1123 values for entity LOANWORD, with 611 unique values\n",
      "167 values for entity TIME, with 85 unique values\n",
      "1191 values for entity DATE, with 522 unique values\n",
      "179 values for entity READ_AS_SEQUENCE, with 114 unique values\n",
      "171 values for entity COMPOSITE, with 130 unique values\n",
      "19 values for entity FRACTION, with 17 unique values\n",
      "48 values for entity RANGE, with 45 unique values\n"
     ]
    },
    {
     "name": "stderr",
     "output_type": "stream",
     "text": [
      "\n"
     ]
    }
   ],
   "source": [
    "print('Dev data: \\n')\n",
    "print_stats('data/dev.yml')"
   ]
  },
  {
   "cell_type": "code",
   "execution_count": 13,
   "metadata": {},
   "outputs": [
    {
     "name": "stdout",
     "output_type": "stream",
     "text": [
      "Test data: \n",
      "\n"
     ]
    },
    {
     "name": "stderr",
     "output_type": "stream",
     "text": [
      "2598it [00:00, 126555.43it/s]"
     ]
    },
    {
     "name": "stdout",
     "output_type": "stream",
     "text": [
      "Sentences have entities:  2088\n",
      "Sentences dont have entities:  510\n",
      "\n",
      "1174 values for entity DATE, with 500 unique values\n",
      "1232 values for entity NUMBER, with 229 unique values\n",
      "172 values for entity TIME, with 91 unique values\n",
      "1111 values for entity LOANWORD, with 565 unique values\n",
      "210 values for entity MEASURE, with 185 unique values\n",
      "206 values for entity COMPOSITE, with 156 unique values\n",
      "198 values for entity READ_AS_SEQUENCE, with 117 unique values\n",
      "20 values for entity FRACTION, with 19 unique values\n",
      "58 values for entity RANGE, with 52 unique values\n"
     ]
    },
    {
     "name": "stderr",
     "output_type": "stream",
     "text": [
      "\n"
     ]
    }
   ],
   "source": [
    "print('Test data: \\n')\n",
    "print_stats('data/test.yml')"
   ]
  },
  {
   "cell_type": "code",
   "execution_count": null,
   "metadata": {},
   "outputs": [],
   "source": []
  },
  {
   "cell_type": "code",
   "execution_count": null,
   "metadata": {},
   "outputs": [],
   "source": []
  }
 ],
 "metadata": {
  "kernelspec": {
   "display_name": "Python 3.7.3 ('venv': venv)",
   "language": "python",
   "name": "python3"
  },
  "language_info": {
   "codemirror_mode": {
    "name": "ipython",
    "version": 3
   },
   "file_extension": ".py",
   "mimetype": "text/x-python",
   "name": "python",
   "nbconvert_exporter": "python",
   "pygments_lexer": "ipython3",
   "version": "3.7.3"
  },
  "orig_nbformat": 4,
  "vscode": {
   "interpreter": {
    "hash": "c585fa0357b1cf80345f86d80e1ef78f558b86ec9a858ba4b577af79d71c700f"
   }
  }
 },
 "nbformat": 4,
 "nbformat_minor": 2
}
